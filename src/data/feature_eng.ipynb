{
 "cells": [
  {
   "cell_type": "code",
   "execution_count": 1,
   "id": "ea59b840",
   "metadata": {},
   "outputs": [],
   "source": [
    "import pandas as pd"
   ]
  },
  {
   "cell_type": "code",
   "execution_count": 2,
   "id": "544adb11",
   "metadata": {},
   "outputs": [],
   "source": [
    "matches_df = pd.read_csv('../../data/raw/matches_combined.csv', index_col=0)"
   ]
  },
  {
   "cell_type": "code",
   "execution_count": 3,
   "id": "a24492a3",
   "metadata": {},
   "outputs": [],
   "source": [
    "matches_df['date'] = pd.to_datetime(matches_df['date'])"
   ]
  },
  {
   "cell_type": "code",
   "execution_count": 4,
   "id": "bf9d4c9b",
   "metadata": {},
   "outputs": [],
   "source": [
    "matches_df['match_hour'] = matches_df['time'].replace(\":.+\", \"\", regex=True).astype('int')"
   ]
  },
  {
   "cell_type": "code",
   "execution_count": 5,
   "id": "ffa2ab60",
   "metadata": {},
   "outputs": [],
   "source": [
    "matches_df['day_code'] = matches_df['date'].dt.day_of_week"
   ]
  },
  {
   "cell_type": "code",
   "execution_count": 6,
   "id": "7426b40f",
   "metadata": {},
   "outputs": [],
   "source": [
    "matches_df['week'] = matches_df.apply(lambda x: x['round'].split(' ')[-1], axis=1)"
   ]
  },
  {
   "cell_type": "code",
   "execution_count": 7,
   "id": "e400f3ed",
   "metadata": {},
   "outputs": [],
   "source": [
    "bundesliga_teams = matches_df[matches_df['comp'] == 'Bundesliga']['team_home'].unique()"
   ]
  },
  {
   "cell_type": "code",
   "execution_count": 8,
   "id": "212ef1e7",
   "metadata": {},
   "outputs": [],
   "source": [
    "# Ensure date is datetime\n",
    "matches_df['date'] = pd.to_datetime(matches_df['date'])\n",
    "\n",
    "# Sort full match list chronologically\n",
    "matches_df = matches_df.sort_values('date').reset_index(drop=True)\n",
    "\n",
    "# Track last game dates per team\n",
    "last_game_date = {}\n",
    "\n",
    "# Only update `days_since_home` and `days_since_away` for Bundesliga matches\n",
    "matches_df['days_since_home'] = None\n",
    "matches_df['days_since_away'] = None\n",
    "\n",
    "for index, row in matches_df.iterrows():\n",
    "    match_date = row['date']\n",
    "    home_team = row['team_home']\n",
    "    away_team = row['team_away']\n",
    "    comp = row['comp']\n",
    "\n",
    "    # If it's a Bundesliga game → calculate days since last match\n",
    "    if comp == 'Bundesliga':\n",
    "        # Home team\n",
    "        if home_team in last_game_date:\n",
    "            matches_df.at[index, 'days_since_home'] = (match_date - last_game_date[home_team]).days\n",
    "        else:\n",
    "            matches_df.at[index, 'days_since_home'] = 0\n",
    "\n",
    "        # Away team\n",
    "        if away_team in last_game_date:\n",
    "            matches_df.at[index, 'days_since_away'] = (match_date - last_game_date[away_team]).days\n",
    "        else:\n",
    "            matches_df.at[index, 'days_since_away'] = 0\n",
    "\n",
    "    # Always update last seen match for both teams (regardless of competition)\n",
    "    last_game_date[home_team] = match_date\n",
    "    last_game_date[away_team] = match_date\n"
   ]
  },
  {
   "cell_type": "code",
   "execution_count": 9,
   "id": "5de91cb5",
   "metadata": {},
   "outputs": [],
   "source": [
    "matches_df[matches_df['comp'] == 'Bundesliga'].reset_index(drop=True).to_csv('../../data/raw/matches_buli.csv')\n",
    "matches_df = matches_df[matches_df['comp'] == 'Bundesliga']"
   ]
  },
  {
   "cell_type": "markdown",
   "id": "4451855e",
   "metadata": {},
   "source": [
    "## Goal ratio"
   ]
  },
  {
   "cell_type": "code",
   "execution_count": 10,
   "id": "7114f4ce",
   "metadata": {},
   "outputs": [],
   "source": [
    "matches_df['goals_home'] = matches_df['goals_home'].astype(float)\n",
    "matches_df['goals_away'] = matches_df['goals_away'].astype(float)\n",
    "matches_df['goal_ratio_home'] = (matches_df['goals_home'] + 1) / (matches_df['goals_away'] + 1)\n",
    "matches_df['goal_ratio_away'] = (matches_df['goals_away'] + 1) / (matches_df['goals_home'] + 1)"
   ]
  },
  {
   "cell_type": "code",
   "execution_count": 13,
   "id": "712616dc",
   "metadata": {},
   "outputs": [],
   "source": [
    "def rolling_stats(cols, window):\n",
    "    for team in matches_df['team_away'].unique():\n",
    "        #get the data frame of one team with all matches (home and away) and also the indexes of the matches\n",
    "        team_df = matches_df[(matches_df['team_away'] == team) | (matches_df['team_home'] == team)].sort_values('date')\n",
    "        match_indexes = list(team_df.index)\n",
    "\n",
    "        #set all values befor our window to nan to delete later\n",
    "        for early_idx in match_indexes[:window]:\n",
    "            venue_early = 'home' if matches_df.loc[early_idx]['team_home'] == team else 'away'\n",
    "            for col in cols:\n",
    "                matches_df.at[early_idx, f\"{col}_{venue_early}_rolling_{window}\"] = float('nan')\n",
    "\n",
    "        #iterate over all matches of a team starting the game after 'window' so we can calc\n",
    "        # stats from the 'window' last matches\n",
    "        for match_idx, row in team_df.iloc[window:].iterrows():\n",
    "            rolling_cols = {f\"{col}\": 0.0 for col in cols}\n",
    "            \n",
    "            #get the indexes of the last matches before this match\n",
    "            match_list_index = match_indexes.index(match_idx)\n",
    "            last_matches_indexes = match_indexes[match_list_index - window:match_list_index]\n",
    "\n",
    "            #sum up the stats from the last matches of this team for all rolling columns\n",
    "            for last_match_index in last_matches_indexes:\n",
    "                match = matches_df.loc[last_match_index]\n",
    "                for col in cols:\n",
    "                    if match['team_home'] == team:\n",
    "                        rolling_cols[col] += match[f\"{col}_home\"] / window\n",
    "                    else:\n",
    "                        rolling_cols[col] += match[f\"{col}_away\"] / window\n",
    "\n",
    "            #set the averag roling stats to the original dataframe\n",
    "            venue = 'home' if row['team_home'] == team else 'away'\n",
    "            for col in cols:\n",
    "                matches_df.at[match_idx, f\"{col}_{venue}_rolling_{window}\"] = rolling_cols[col]\n",
    "\n",
    "rolling_stats(['xg', 'sh', 'sot', 'poss', 'goal_ratio', 'elo'], 3)\n",
    "rolling_stats(['goal_ratio'], 1)\n",
    "\n",
    "matches_df['elo_rolling_diff'] = matches_df['elo_home_rolling_3'] - matches_df['elo_away_rolling_3']\n",
    "matches_df['goal_ratio_diff'] = matches_df['goal_ratio_home_rolling_3'] - matches_df['goal_ratio_away_rolling_3']\n",
    "\n",
    "matches_df['home_won_game'] = matches_df['result_home'].apply(lambda x: 1 if x == 'W' else 0)\n",
    "\n",
    "matches_df.dropna().to_csv('../../data/raw/matches_rolling.csv')\n",
    "\n"
   ]
  },
  {
   "cell_type": "code",
   "execution_count": null,
   "id": "70a42a31",
   "metadata": {},
   "outputs": [],
   "source": []
  }
 ],
 "metadata": {
  "kernelspec": {
   "display_name": "Python 3",
   "language": "python",
   "name": "python3"
  },
  "language_info": {
   "codemirror_mode": {
    "name": "ipython",
    "version": 3
   },
   "file_extension": ".py",
   "mimetype": "text/x-python",
   "name": "python",
   "nbconvert_exporter": "python",
   "pygments_lexer": "ipython3",
   "version": "3.12.8"
  }
 },
 "nbformat": 4,
 "nbformat_minor": 5
}
